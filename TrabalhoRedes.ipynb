{
  "nbformat": 4,
  "nbformat_minor": 0,
  "metadata": {
    "colab": {
      "provenance": [],
      "authorship_tag": "ABX9TyPduHjC394qikfw5KlGPYhk",
      "include_colab_link": true
    },
    "kernelspec": {
      "name": "python3",
      "display_name": "Python 3"
    },
    "language_info": {
      "name": "python"
    }
  },
  "cells": [
    {
      "cell_type": "markdown",
      "metadata": {
        "id": "view-in-github",
        "colab_type": "text"
      },
      "source": [
        "<a href=\"https://colab.research.google.com/github/murillodomingos/Brain-Tumor/blob/main/TrabalhoRedes.ipynb\" target=\"_parent\"><img src=\"https://colab.research.google.com/assets/colab-badge.svg\" alt=\"Open In Colab\"/></a>"
      ]
    },
    {
      "cell_type": "code",
      "execution_count": 1,
      "metadata": {
        "colab": {
          "base_uri": "https://localhost:8080/"
        },
        "id": "vOeCnELzxnED",
        "outputId": "de579004-3545-4b7f-e9ab-71e755918323"
      },
      "outputs": [
        {
          "output_type": "stream",
          "name": "stdout",
          "text": [
            "Downloading from https://www.kaggle.com/api/v1/datasets/download/murtozalikhon/brain-tumor-multimodal-image-ct-and-mri?dataset_version_number=1...\n"
          ]
        },
        {
          "output_type": "stream",
          "name": "stderr",
          "text": [
            "100%|██████████| 361M/361M [00:12<00:00, 29.9MB/s]"
          ]
        },
        {
          "output_type": "stream",
          "name": "stdout",
          "text": [
            "Extracting files...\n"
          ]
        },
        {
          "output_type": "stream",
          "name": "stderr",
          "text": [
            "\n"
          ]
        },
        {
          "output_type": "stream",
          "name": "stdout",
          "text": [
            "Path to dataset files: /root/.cache/kagglehub/datasets/murtozalikhon/brain-tumor-multimodal-image-ct-and-mri/versions/1\n"
          ]
        }
      ],
      "source": [
        "import kagglehub\n",
        "\n",
        "# Download latest version\n",
        "path = kagglehub.dataset_download(\"murtozalikhon/brain-tumor-multimodal-image-ct-and-mri\")\n",
        "\n",
        "print(\"Path to dataset files:\", path)"
      ]
    },
    {
      "cell_type": "code",
      "source": [
        "import pandas as pd\n",
        "import numpy as np\n",
        "import matplotlib.pyplot as plt\n",
        "import seaborn as sns\n",
        "import os\n",
        "import torch\n",
        "import torch.nn as nn\n",
        "from torch.utils.data import DataLoader, random_split\n",
        "from torchvision import datasets, transforms"
      ],
      "metadata": {
        "id": "-q6wT34N09vl"
      },
      "execution_count": 11,
      "outputs": []
    },
    {
      "cell_type": "code",
      "source": [
        "#Device agnostic code\n",
        "if torch.cuda.is_available():\n",
        "    device = \"cuda\"\n",
        "else:\n",
        "    device = \"cpu\"\n",
        "\n",
        "#Resizing images and turning them into tensors for matrix operations\n",
        "transform = transforms.Compose([\n",
        "    transforms.Resize((224, 224)),\n",
        "    transforms.ToTensor(),\n",
        "])\n",
        "\n",
        "#Creating Dataloaders for Magnetic Resonance Imaging\n",
        "MRI = datasets.ImageFolder(root=path + '/Dataset/Brain Tumor MRI images', transform=transform)\n",
        "\n",
        "MRI_dataloader = DataLoader(MRI, batch_size=32, shuffle=True)\n",
        "MRI_train_size = int(0.8 * len(MRI))\n",
        "MRI_test_size = len(MRI) - MRI_train_size\n",
        "\n",
        "MRI_train_dataset, MRI_test_dataset = random_split(MRI, [MRI_train_size, MRI_test_size])\n",
        "\n",
        "MRI_train_loader = DataLoader(MRI_train_dataset, batch_size=32, shuffle=True)\n",
        "MRI_test_loader = DataLoader(MRI_test_dataset, batch_size=32, shuffle=True)\n",
        "\n",
        "print(\"MRI Training set size:\", len(MRI_train_dataset))\n",
        "print(\"MRI Testing set size:\", len(MRI_test_dataset))"
      ],
      "metadata": {
        "colab": {
          "base_uri": "https://localhost:8080/"
        },
        "id": "AzVHc8KA01vN",
        "outputId": "f8a8f5a3-86d9-4f47-8bff-0129b650dee4"
      },
      "execution_count": 13,
      "outputs": [
        {
          "output_type": "stream",
          "name": "stdout",
          "text": [
            "MRI Training set size: 4000\n",
            "MRI Testing set size: 1000\n"
          ]
        }
      ]
    },
    {
      "cell_type": "code",
      "metadata": {
        "colab": {
          "base_uri": "https://localhost:8080/"
        },
        "id": "b920e393",
        "outputId": "1c025db5-96be-48c7-c6f8-fcbecfe30bf5"
      },
      "source": [
        "print(\"MRI Classes:\", MRI.classes)"
      ],
      "execution_count": 14,
      "outputs": [
        {
          "output_type": "stream",
          "name": "stdout",
          "text": [
            "MRI Classes: ['Healthy', 'Tumor']\n"
          ]
        }
      ]
    }
  ]
}